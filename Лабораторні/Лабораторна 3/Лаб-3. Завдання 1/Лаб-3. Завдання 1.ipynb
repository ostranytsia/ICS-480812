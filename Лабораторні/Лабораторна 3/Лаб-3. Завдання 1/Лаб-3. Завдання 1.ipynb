{
 "cells": [
  {
   "cell_type": "markdown",
   "metadata": {},
   "source": [
    "#  Лабораторна робота №3\n",
    "### практичне завдання 1 \n",
    "***"
   ]
  },
  {
   "cell_type": "markdown",
   "metadata": {
    "heading_collapsed": true
   },
   "source": [
    "## Словники - Dictionary\n",
    "\n",
    "__Словник__ - це _послідовна_ структура даних, кожний елемент якої є парою \"__ключ : зачення__\" (key-value) та записується в фігурних дужках через кому:\n",
    "\n",
    "slovnik = {key1:value1, key2:value2, ... keyN:valueN}\n",
    "\n",
    "\n",
    "<pre>slovnik = {int_num : 123,\n",
    "           stroka: \"John\",\n",
    "           some_list:[1,2,3],\n",
    "           \"const\":100}</pre>\n",
    "\n",
    "[Докладніше про словники в Python](https://devpractice.ru/python-lesson-9-dict/)"
   ]
  },
  {
   "cell_type": "markdown",
   "metadata": {
    "hidden": true
   },
   "source": [
    "__Способи створення словників__\n",
    "1. статичний\n",
    "2. фунціональний"
   ]
  },
  {
   "cell_type": "code",
   "execution_count": 1,
   "metadata": {
    "hidden": true
   },
   "outputs": [],
   "source": [
    "# в першому випадку змінній присвоюється заздалегідь визначена структура:\n",
    "\n",
    "name=\"some_key\"\n",
    "some_value = \"Smith\"\n",
    "\n",
    "static_slovnik = {\n",
    "           \"int_num\" : 123,\n",
    "           \"stroka\": \"John\",\n",
    "           \"some_list\" : [1,2,3],\n",
    "           \"const\" : 100,\n",
    "           100 : 12,\n",
    "           name : some_value}\n",
    "\n",
    "# ВАЖЛИВО! ключі - повинні бути заздалегідь визначеними константами"
   ]
  },
  {
   "cell_type": "code",
   "execution_count": 2,
   "metadata": {
    "hidden": true
   },
   "outputs": [
    {
     "data": {
      "text/plain": [
       "{'int_num': 123,\n",
       " 'stroka': 'John',\n",
       " 'some_list': [1, 2, 3],\n",
       " 'const': 100,\n",
       " 100: 12,\n",
       " 'some_key': 'Smith'}"
      ]
     },
     "execution_count": 2,
     "metadata": {},
     "output_type": "execute_result"
    }
   ],
   "source": [
    "static_slovnik"
   ]
  },
  {
   "cell_type": "code",
   "execution_count": 3,
   "metadata": {
    "hidden": true
   },
   "outputs": [],
   "source": [
    "# в другому випадку пари 'ключ-значення' передаються \n",
    "# в функцію-конструктор `dict`: де 'ключ' - параметр, який отримає 'значення'\n",
    "\n",
    "func_slovnik = dict(int_num = 123,\n",
    "                    stroka = \"John\",\n",
    "                    some_list = [1,2,3],\n",
    "                    const = 100,\n",
    "                    name = some_value) \n",
    "\n",
    "# ВАЖЛИВО! ім'я параметра стає іменем ключа у вигляді строки!"
   ]
  },
  {
   "cell_type": "code",
   "execution_count": 4,
   "metadata": {
    "hidden": true
   },
   "outputs": [
    {
     "data": {
      "text/plain": [
       "{'int_num': 123,\n",
       " 'stroka': 'John',\n",
       " 'some_list': [1, 2, 3],\n",
       " 'const': 100,\n",
       " 'name': 'Smith'}"
      ]
     },
     "execution_count": 4,
     "metadata": {},
     "output_type": "execute_result"
    }
   ],
   "source": [
    "func_slovnik"
   ]
  },
  {
   "cell_type": "code",
   "execution_count": 5,
   "metadata": {
    "hidden": true
   },
   "outputs": [],
   "source": [
    "# пустий словник\n",
    "empty_dict = {}\n",
    "\n",
    "# або\n",
    "empty_dict_1 = dict()"
   ]
  },
  {
   "cell_type": "markdown",
   "metadata": {
    "hidden": true
   },
   "source": [
    "#### словник, як і список - є _змінним_ обїєктом"
   ]
  },
  {
   "cell_type": "code",
   "execution_count": 6,
   "metadata": {
    "hidden": true
   },
   "outputs": [
    {
     "name": "stdout",
     "output_type": "stream",
     "text": [
<<<<<<< HEAD
<<<<<<< HEAD
      "{} 2612427823808\n",
      "{} 2612428115776\n"
=======
      "{} 1822441024256\n",
      "{} 1822441333248\n"
>>>>>>> f14328f28a476f9ee6de1016463c252917087661
=======
      "{} 2612427823808\n",
      "{} 2612428115776\n"
>>>>>>> bc1a023 (Доробив лабораторні)
     ]
    }
   ],
   "source": [
    "print(empty_dict, id(empty_dict))\n",
    "print(empty_dict_1, id(empty_dict_1))"
   ]
  },
  {
   "cell_type": "code",
   "execution_count": 7,
   "metadata": {
    "hidden": true
   },
   "outputs": [
    {
     "name": "stdout",
     "output_type": "stream",
     "text": [
<<<<<<< HEAD
<<<<<<< HEAD
      "[] 2612427611008\n",
      "[] 2612428140224\n"
=======
      "[] 1822440806976\n",
      "[] 1822441353600\n"
>>>>>>> f14328f28a476f9ee6de1016463c252917087661
=======
      "[] 2612427611008\n",
      "[] 2612428140224\n"
>>>>>>> bc1a023 (Доробив лабораторні)
     ]
    }
   ],
   "source": [
    "l = []\n",
    "l1 = list()\n",
    "print (l, id(l))\n",
    "print (l1, id(l1))"
   ]
  },
  {
   "cell_type": "markdown",
   "metadata": {
    "hidden": true
   },
   "source": [
    "на відмінність від  кортежів:"
   ]
  },
  {
   "cell_type": "code",
   "execution_count": 8,
   "metadata": {
    "hidden": true
   },
   "outputs": [
    {
     "name": "stdout",
     "output_type": "stream",
     "text": [
<<<<<<< HEAD
<<<<<<< HEAD
      "() 2612353957952\n",
      "() 2612353957952\n"
=======
      "() 1822367088704\n",
      "() 1822367088704\n"
>>>>>>> f14328f28a476f9ee6de1016463c252917087661
=======
      "() 2612353957952\n",
      "() 2612353957952\n"
>>>>>>> bc1a023 (Доробив лабораторні)
     ]
    }
   ],
   "source": [
    "k = ()\n",
    "k1 = tuple()\n",
    "print (k, id(k))\n",
    "print (k1, id(k1))"
   ]
  },
  {
   "cell_type": "markdown",
   "metadata": {
    "hidden": true
   },
   "source": [
    "<dir style=\"background-color: cyan\">\n",
    "<b>Словник</b> - це <i>масив</i>/список індексами якого є <b>хеш-значення</b>. \n",
    "\n",
    "Такий масив ще називають <i>асоціативним масивом</i> чи <i>хеш-таблицей</i>\n",
    "</dir>"
   ]
  },
  {
   "cell_type": "code",
   "execution_count": 9,
   "metadata": {
    "hidden": true
   },
   "outputs": [],
   "source": [
    "d = {\"John\"  : \"US, New York\",\n",
    "     \"Vovan\" : \"RU, Muxosransk\",\n",
    "     \"Me\"    : \"a\"}"
   ]
  },
  {
   "cell_type": "code",
   "execution_count": 10,
   "metadata": {
    "hidden": true
   },
   "outputs": [
    {
     "name": "stdout",
     "output_type": "stream",
     "text": [
      "key= John \t value= US, New York\n",
      "key= Vovan \t value= RU, Muxosransk\n",
      "key= Me \t value= a\n"
     ]
    }
   ],
   "source": [
    "for k, v in d.items():\n",
    "    print(\"key=\", k, '\\t', \"value=\",v)"
   ]
  },
  {
   "cell_type": "code",
   "execution_count": 11,
   "metadata": {
    "code_folding": [],
    "hidden": true
   },
   "outputs": [],
   "source": [
    "l = [\"NY, Broadway 1\", \n",
    "     \"RU, Muxosransk\"]"
   ]
  },
  {
   "cell_type": "code",
   "execution_count": 12,
   "metadata": {
    "code_folding": [],
    "hidden": true
   },
   "outputs": [
    {
     "name": "stdout",
     "output_type": "stream",
     "text": [
      "index= 0 \t value= NY, Broadway 1\n",
      "index= 1 \t value= RU, Muxosransk\n"
     ]
    }
   ],
   "source": [
    "for i, v in enumerate(l):\n",
    "    print(\"index=\", i, '\\t', \"value=\",v)"
   ]
  },
  {
   "cell_type": "markdown",
   "metadata": {
    "hidden": true
   },
   "source": [
    "#### принцип створення хеш-значень (хеш функція)\n",
    "\n",
    "[прочитати про хеш-функції](http://ruslan.rv.ua/python-essential/methodologies/hash/)"
   ]
  },
  {
   "cell_type": "code",
   "execution_count": 13,
   "metadata": {
    "hidden": true
   },
   "outputs": [
    {
     "name": "stdout",
     "output_type": "stream",
     "text": [
      "['ArithmeticError', 'AssertionError', 'AttributeError', 'BaseException', 'BlockingIOError', 'BrokenPipeError', 'BufferError', 'BytesWarning', 'ChildProcessError', 'ConnectionAbortedError', 'ConnectionError', 'ConnectionRefusedError', 'ConnectionResetError', 'DeprecationWarning', 'EOFError', 'Ellipsis', 'EnvironmentError', 'Exception', 'False', 'FileExistsError', 'FileNotFoundError', 'FloatingPointError', 'FutureWarning', 'GeneratorExit', 'IOError', 'ImportError', 'ImportWarning', 'IndentationError', 'IndexError', 'InterruptedError', 'IsADirectoryError', 'KeyError', 'KeyboardInterrupt', 'LookupError', 'MemoryError', 'ModuleNotFoundError', 'NameError', 'None', 'NotADirectoryError', 'NotImplemented', 'NotImplementedError', 'OSError', 'OverflowError', 'PendingDeprecationWarning', 'PermissionError', 'ProcessLookupError', 'RecursionError', 'ReferenceError', 'ResourceWarning', 'RuntimeError', 'RuntimeWarning', 'StopAsyncIteration', 'StopIteration', 'SyntaxError', 'SyntaxWarning', 'SystemError', 'SystemExit', 'TabError', 'TimeoutError', 'True', 'TypeError', 'UnboundLocalError', 'UnicodeDecodeError', 'UnicodeEncodeError', 'UnicodeError', 'UnicodeTranslateError', 'UnicodeWarning', 'UserWarning', 'ValueError', 'Warning', 'WindowsError', 'ZeroDivisionError', '__IPYTHON__', '__build_class__', '__debug__', '__doc__', '__import__', '__loader__', '__name__', '__package__', '__spec__', 'abs', 'all', 'any', 'ascii', 'bin', 'bool', 'breakpoint', 'bytearray', 'bytes', 'callable', 'chr', 'classmethod', 'compile', 'complex', 'copyright', 'credits', 'delattr', 'dict', 'dir', 'display', 'divmod', 'enumerate', 'eval', 'exec', 'filter', 'float', 'format', 'frozenset', 'get_ipython', 'getattr', 'globals', 'hasattr', 'hash', 'help', 'hex', 'id', 'input', 'int', 'isinstance', 'issubclass', 'iter', 'len', 'license', 'list', 'locals', 'map', 'max', 'memoryview', 'min', 'next', 'object', 'oct', 'open', 'ord', 'pow', 'print', 'property', 'range', 'repr', 'reversed', 'round', 'set', 'setattr', 'slice', 'sorted', 'staticmethod', 'str', 'sum', 'super', 'tuple', 'type', 'vars', 'zip']\n"
     ]
    }
   ],
   "source": [
    "print(dir(__builtins__))"
   ]
  },
  {
   "cell_type": "code",
   "execution_count": 14,
   "metadata": {
    "hidden": true
   },
   "outputs": [
    {
     "data": {
      "text/plain": [
       "({'John': 'US, New York', 'Vovan': 'RU, Muxosransk', 'Me': 'a'},\n",
<<<<<<< HEAD
<<<<<<< HEAD
=======
>>>>>>> bc1a023 (Доробив лабораторні)
       " 2612428139648,\n",
       " 2612428006512,\n",
       " 2612385431152,\n",
       " 2612385431152)"
<<<<<<< HEAD
=======
       " 1822441336576,\n",
       " 1822441224304,\n",
       " 1822398824048,\n",
       " 1822398824048)"
>>>>>>> f14328f28a476f9ee6de1016463c252917087661
=======
>>>>>>> bc1a023 (Доробив лабораторні)
      ]
     },
     "execution_count": 14,
     "metadata": {},
     "output_type": "execute_result"
    }
   ],
   "source": [
    "d, id(d), id('John'), id(d['Me']), id(\"a\")"
   ]
  },
  {
   "cell_type": "code",
   "execution_count": 15,
   "metadata": {
    "hidden": true
   },
   "outputs": [],
   "source": [
    "h = hash('John')"
   ]
  },
  {
   "cell_type": "code",
   "execution_count": 16,
   "metadata": {
    "hidden": true
   },
   "outputs": [
    {
     "data": {
      "text/plain": [
<<<<<<< HEAD
<<<<<<< HEAD
       "(-7203934267396129824,\n",
       " '-0b110001111111001100001000000110001010001011010010000010000100000')"
=======
       "(2753621366596708989,\n",
       " '0b10011000110110110101000000101100101001111011000010101001111101')"
>>>>>>> f14328f28a476f9ee6de1016463c252917087661
=======
       "(-7203934267396129824,\n",
       " '-0b110001111111001100001000000110001010001011010010000010000100000')"
>>>>>>> bc1a023 (Доробив лабораторні)
      ]
     },
     "execution_count": 16,
     "metadata": {},
     "output_type": "execute_result"
    }
   ],
   "source": [
    "h, bin(h)"
   ]
  },
  {
   "cell_type": "code",
   "execution_count": 17,
   "metadata": {
    "hidden": true
   },
   "outputs": [
    {
     "data": {
      "text/plain": [
<<<<<<< HEAD
<<<<<<< HEAD
       "714263040"
=======
       "696781312"
>>>>>>> f14328f28a476f9ee6de1016463c252917087661
=======
       "714263040"
>>>>>>> bc1a023 (Доробив лабораторні)
      ]
     },
     "execution_count": 17,
     "metadata": {},
     "output_type": "execute_result"
    }
   ],
   "source": [
    "h & 1_000_000_000"
   ]
  },
  {
   "cell_type": "code",
   "execution_count": 18,
   "metadata": {
    "hidden": true
   },
   "outputs": [
    {
     "data": {
      "text/plain": [
<<<<<<< HEAD
<<<<<<< HEAD
       "<memory at 0x0000026040C2A7C0>"
=======
       "<memory at 0x000001A851E0A7C0>"
>>>>>>> f14328f28a476f9ee6de1016463c252917087661
=======
       "<memory at 0x0000026040C2A7C0>"
>>>>>>> bc1a023 (Доробив лабораторні)
      ]
     },
     "execution_count": 18,
     "metadata": {},
     "output_type": "execute_result"
    }
   ],
   "source": [
    "memoryview('John'.encode())"
   ]
  },
  {
   "cell_type": "markdown",
   "metadata": {
    "hidden": true
   },
   "source": [
    "#### операції з словниками"
   ]
  },
  {
   "cell_type": "code",
   "execution_count": 19,
   "metadata": {
    "hidden": true
   },
   "outputs": [
    {
     "name": "stdout",
     "output_type": "stream",
     "text": [
      "True\n"
     ]
    }
   ],
   "source": [
    "# словники будуть рівними якщо УСІ пари 'ключ-значення рівні'\n",
    "\n",
    "d1 = {\"k1\" : 1, \"k2\" : 2 }\n",
    "d2 = dict(k1 = 1, k2 = 2)\n",
    "print(d1 == d2)\n",
    "\n",
    "# ВАЖЛИВО! словники не можна перевіряти на 'більш-менш'"
   ]
  },
  {
   "cell_type": "code",
   "execution_count": 20,
   "metadata": {
    "hidden": true
   },
   "outputs": [
    {
     "name": "stdout",
     "output_type": "stream",
     "text": [
      "==  True\n",
      "is  False\n"
     ]
    }
   ],
   "source": [
    "print('== ', d1 == d2)\n",
    "# але:\n",
    "print('is ', d1 is d2)  # оператор 'is' порівнює 'id'"
   ]
  },
  {
   "cell_type": "code",
   "execution_count": 21,
   "metadata": {
    "hidden": true
   },
   "outputs": [
    {
     "name": "stdout",
     "output_type": "stream",
     "text": [
      "['__class__', '__contains__', '__delattr__', '__delitem__', '__dir__', '__doc__', '__eq__', '__format__', '__ge__', '__getattribute__', '__getitem__', '__gt__', '__hash__', '__init__', '__init_subclass__', '__iter__', '__le__', '__len__', '__lt__', '__ne__', '__new__', '__reduce__', '__reduce_ex__', '__repr__', '__reversed__', '__setattr__', '__setitem__', '__sizeof__', '__str__', '__subclasshook__', 'clear', 'copy', 'fromkeys', 'get', 'items', 'keys', 'pop', 'popitem', 'setdefault', 'update', 'values']\n"
     ]
    }
   ],
   "source": [
    "print(dir(dict))"
   ]
  },
  {
   "cell_type": "markdown",
   "metadata": {
    "hidden": true
   },
   "source": [
    "#### доступ до елементів словника"
   ]
  },
  {
   "cell_type": "code",
   "execution_count": 22,
   "metadata": {
    "hidden": true
   },
   "outputs": [
    {
     "name": "stdout",
     "output_type": "stream",
     "text": [
      "{'k1': 1, 'k2': 2}\tk1 =  1\n",
      "{'k1': 'John', 'k2': 2}\n",
      "{'k1': 'John', 'k2': 2, 'k3': 'Smith'}\n"
     ]
    }
   ],
   "source": [
    "print(d1, end = '\\t')\n",
    "print (\"k1 = \", d1['k1'])\n",
    "\n",
    "d1['k1'] = \"John\"\n",
    "print(d1)\n",
    "\n",
    "d1['k3'] = \"Smith\"\n",
    "print(d1)"
   ]
  },
  {
   "cell_type": "markdown",
   "metadata": {
    "hidden": true
   },
   "source": [
    "#### функції для роботи з словниками"
   ]
  },
  {
   "cell_type": "code",
   "execution_count": 23,
   "metadata": {
    "hidden": true,
    "scrolled": true
   },
   "outputs": [
    {
     "name": "stdout",
     "output_type": "stream",
     "text": [
      "['__class__', '__contains__', '__delattr__', '__delitem__', '__dir__', '__doc__', '__eq__', '__format__', '__ge__', '__getattribute__', '__getitem__', '__gt__', '__hash__', '__init__', '__init_subclass__', '__iter__', '__le__', '__len__', '__lt__', '__ne__', '__new__', '__reduce__', '__reduce_ex__', '__repr__', '__reversed__', '__setattr__', '__setitem__', '__sizeof__', '__str__', '__subclasshook__', 'clear', 'copy', 'fromkeys', 'get', 'items', 'keys', 'pop', 'popitem', 'setdefault', 'update', 'values']\n"
     ]
    }
   ],
   "source": [
    "# методи (функції) притаманні виключно словникам\n",
    "print(dir(dict))"
   ]
  },
  {
   "cell_type": "code",
   "execution_count": 24,
   "metadata": {
    "hidden": true
   },
   "outputs": [
    {
     "data": {
      "text/plain": [
       "dict_keys(['k1', 'k2', 'k3'])"
      ]
     },
     "execution_count": 24,
     "metadata": {},
     "output_type": "execute_result"
    }
   ],
   "source": [
    "# вивід усіх ключів словника\n",
    "d1.keys()"
   ]
  },
  {
   "cell_type": "code",
   "execution_count": 25,
   "metadata": {
    "hidden": true
   },
   "outputs": [
    {
     "data": {
      "text/plain": [
       "dict_values(['John', 2, 'Smith'])"
      ]
     },
     "execution_count": 25,
     "metadata": {},
     "output_type": "execute_result"
    }
   ],
   "source": [
    "# вивід усіх значень словника\n",
    "d1.values()"
   ]
  },
  {
   "cell_type": "code",
   "execution_count": 26,
   "metadata": {
    "hidden": true
   },
   "outputs": [
    {
     "data": {
      "text/plain": [
       "dict_items([('k1', 'John'), ('k2', 2), ('k3', 'Smith')])"
      ]
     },
     "execution_count": 26,
     "metadata": {},
     "output_type": "execute_result"
    }
   ],
   "source": [
    "# вивід усіх пар 'ключ-значення' у вигляді списка кортежів\n",
    "d1.items()"
   ]
  },
  {
   "cell_type": "code",
   "execution_count": 27,
   "metadata": {
    "hidden": true
   },
   "outputs": [
    {
     "data": {
      "text/plain": [
       "'John'"
      ]
     },
     "execution_count": 27,
     "metadata": {},
     "output_type": "execute_result"
    }
   ],
   "source": [
    "# видалення елемента словника по ключу \n",
    "d1.pop(\"k1\", \"ключ не знайден\")"
   ]
  },
  {
   "cell_type": "markdown",
   "metadata": {
    "heading_collapsed": true
   },
   "source": [
    "## Множини\n",
    "\n",
    "__множина__ - це об'єкт(тип) Python, який містить послідовність унікальних (такі, які не повторюються) елементів _незмінного_ (такого, який має __хеш__) типу (str, int, ...) \n",
    "\n",
    "<pre>\n",
    "m = {1, '1', -3.14, True, None, (1,2,3) }\n",
    "</pre>\n",
    "\n",
    "множини є __змінними__ об'єктами\n",
    "\n",
    "[Докладніше про множини в Python](https://pythonworld.ru/tipy-dannyx-v-python/mnozhestva-set-i-frozenset.html)"
   ]
  },
  {
   "cell_type": "code",
   "execution_count": 28,
   "metadata": {
    "hidden": true,
    "scrolled": true
   },
   "outputs": [
    {
     "name": "stdout",
     "output_type": "stream",
     "text": [
      "<class 'set'>\n"
     ]
    }
   ],
   "source": [
    "# Створити множник можна так \n",
    "m = {1, 2}\n",
    "\n",
    "# або через функцію-конструктор\n",
    "m = set([1, 2])\n",
    "\n",
    "print(type(m))"
   ]
  },
  {
   "cell_type": "code",
   "execution_count": 29,
   "metadata": {
    "hidden": true
   },
   "outputs": [
    {
     "name": "stdout",
     "output_type": "stream",
     "text": [
<<<<<<< HEAD
<<<<<<< HEAD
      "{1, 2} 2612428030016\n",
      "{1, 2, 3} 2612428030016\n"
=======
      "{1, 2} 1822441198976\n",
      "{1, 2, 3} 1822441198976\n"
>>>>>>> f14328f28a476f9ee6de1016463c252917087661
=======
      "{1, 2} 2612428030016\n",
      "{1, 2, 3} 2612428030016\n"
>>>>>>> bc1a023 (Доробив лабораторні)
     ]
    }
   ],
   "source": [
    "m = {1, 2}\n",
    "print(m, id(m))\n",
    "m.add(3)\n",
    "print(m, id(m))"
   ]
  },
  {
   "cell_type": "code",
   "execution_count": 30,
   "metadata": {
    "hidden": true
   },
   "outputs": [
    {
     "name": "stdout",
     "output_type": "stream",
     "text": [
<<<<<<< HEAD
<<<<<<< HEAD
      "(1, 2) 2612427479424\n",
      "(1, 2, 3) 2612427605248\n"
=======
      "(1, 2) 1822440162752\n",
      "(1, 2, 3) 1822441334144\n"
>>>>>>> f14328f28a476f9ee6de1016463c252917087661
=======
      "(1, 2) 2612427479424\n",
      "(1, 2, 3) 2612427605248\n"
>>>>>>> bc1a023 (Доробив лабораторні)
     ]
    }
   ],
   "source": [
    "k = (1, 2)\n",
    "print(k, id(k))\n",
    "k += (3,)\n",
    "print(k, id(k))"
   ]
  },
  {
   "cell_type": "markdown",
   "metadata": {
    "hidden": true
   },
   "source": [
    "#### операції та функції роботи з множинами"
   ]
  },
  {
   "cell_type": "code",
   "execution_count": 31,
   "metadata": {
    "hidden": true,
    "scrolled": false
   },
   "outputs": [
    {
     "name": "stdout",
     "output_type": "stream",
     "text": [
      "['__and__', '__class__', '__contains__', '__delattr__', '__dir__', '__doc__', '__eq__', '__format__', '__ge__', '__getattribute__', '__gt__', '__hash__', '__iand__', '__init__', '__init_subclass__', '__ior__', '__isub__', '__iter__', '__ixor__', '__le__', '__len__', '__lt__', '__ne__', '__new__', '__or__', '__rand__', '__reduce__', '__reduce_ex__', '__repr__', '__ror__', '__rsub__', '__rxor__', '__setattr__', '__sizeof__', '__str__', '__sub__', '__subclasshook__', '__xor__', 'add', 'clear', 'copy', 'difference', 'difference_update', 'discard', 'intersection', 'intersection_update', 'isdisjoint', 'issubset', 'issuperset', 'pop', 'remove', 'symmetric_difference', 'symmetric_difference_update', 'union', 'update']\n"
     ]
    }
   ],
   "source": [
    "print(dir(m))"
   ]
  },
  {
   "cell_type": "code",
   "execution_count": 32,
   "metadata": {
    "hidden": true
   },
   "outputs": [
    {
     "name": "stdout",
     "output_type": "stream",
     "text": [
      "{2, 3, 44, 765}\n"
     ]
    }
   ],
   "source": [
    "l = [3, 2, 44, 765]\n",
    "set_l = set(l)\n",
    "print(set_l)"
   ]
  },
  {
   "cell_type": "code",
   "execution_count": 33,
   "metadata": {
    "hidden": true
   },
   "outputs": [
    {
     "name": "stdout",
     "output_type": "stream",
     "text": [
<<<<<<< HEAD
<<<<<<< HEAD
      "{'a', 'c', 'b'}\n"
=======
      "{'c', 'a', 'b'}\n"
>>>>>>> f14328f28a476f9ee6de1016463c252917087661
=======
      "{'a', 'c', 'b'}\n"
>>>>>>> bc1a023 (Доробив лабораторні)
     ]
    }
   ],
   "source": [
    "d = dict(a=3, b=1, c=2)\n",
    "set_d = set(d)\n",
    "print(set_d)"
   ]
  },
  {
   "cell_type": "code",
   "execution_count": 34,
   "metadata": {
    "hidden": true
   },
   "outputs": [
    {
     "name": "stdout",
     "output_type": "stream",
     "text": [
<<<<<<< HEAD
<<<<<<< HEAD
      "{'N', 'd', 'n', ' ', 'i', 'o', 'r', ',', 'L', 't', 'g', 's', 'l', 'c', 'b', 'f', 'p', 'e', '.', 'u', 'M', 'm', 'a'}\n"
=======
      "{'b', 'i', 'l', 'r', 'n', 'e', 'N', 'p', 's', 'u', 'L', 'c', 'm', 'o', 'a', 'f', '.', ' ', 'g', 'd', 'M', ',', 't'}\n"
>>>>>>> f14328f28a476f9ee6de1016463c252917087661
=======
      "{'N', 'd', 'n', ' ', 'i', 'o', 'r', ',', 'L', 't', 'g', 's', 'l', 'c', 'b', 'f', 'p', 'e', '.', 'u', 'M', 'm', 'a'}\n"
>>>>>>> bc1a023 (Доробив лабораторні)
     ]
    }
   ],
   "source": [
    "s = \"Lorem ipsum dolor sit amet, consectetur adipiscing elit. Morbi auctor eros eu leo ultrices suscipit. Nulla facilisi\"\n",
    "set_s = set(s)\n",
    "print(set_s)"
   ]
  },
  {
   "cell_type": "code",
   "execution_count": 35,
   "metadata": {
    "hidden": true
   },
   "outputs": [],
   "source": [
    "a = {1, 2, 3, 4}\n",
    "b = {2, 4, 5}"
   ]
  },
  {
   "cell_type": "code",
   "execution_count": 36,
   "metadata": {
    "hidden": true
   },
   "outputs": [
    {
     "name": "stdout",
     "output_type": "stream",
     "text": [
      "{1, 3} {1, 2, 3, 4, 5} {2, 4}\n"
     ]
    }
   ],
   "source": [
    "c = a.difference(b)    # різниця\n",
    "d = a.union(b)         # об'єднання\n",
    "e = a.intersection(b)  # перетин\n",
    "\n",
    "print(c, d, e)"
   ]
  },
  {
   "cell_type": "code",
   "execution_count": 37,
   "metadata": {
    "hidden": true
   },
   "outputs": [
    {
     "name": "stdout",
     "output_type": "stream",
     "text": [
      "{5} {1, 2, 3, 4, 5} {2, 4}\n"
     ]
    }
   ],
   "source": [
    "c = b.difference(a)\n",
    "d = b.union(a)\n",
    "e = b.intersection(a)\n",
    "\n",
    "print(c, d, e)"
   ]
  },
  {
   "cell_type": "markdown",
   "metadata": {},
   "source": [
    "## ТЕСТОВА ЧАСТИНА\n",
    "\n",
    "<p style=\"color:red\"> разкоментуйте (уберіть '#') перший рядок (<b>#!!pip ...</b>) в наступному кодовому рядку і запустить рядок на виконання (може зайняти деякий час!)</p>"
   ]
  },
  {
   "cell_type": "code",
   "execution_count": 39,
   "metadata": {
    "run_control": {
     "marked": false
    },
    "tags": [
     "hide-input"
    ]
   },
   "outputs": [],
   "source": [
    "!!pip install otter-grader\n",
    "import otter\n",
    "grader = otter.Notebook()"
   ]
  },
  {
   "cell_type": "markdown",
   "metadata": {},
   "source": [
    "#### виконуйте завдання послідовно вписуючи на відведених місцях (...) свій код та перевіряйте  код запускаючи  'grader.check()'"
   ]
  },
  {
   "cell_type": "markdown",
   "metadata": {
    "deletable": false,
    "editable": false
   },
   "source": [
    "__Завдання 1__ \n",
    "1. створити пустий словник з ім'ям 'my_info'\n",
    "2. додати в словник наступні елементи\n",
    "  - своє ім'я (ключ = __name__)\n",
    "  - своє прізвище (ключ = __surname__)\n",
    "  - свій рік народження (ключ = __year_of_birth__)\n",
    "  - місяць народження (ключ = __month_of_birth__) як __число__\n",
    "<!--\n",
    "BEGIN QUESTION\n",
    "name: q1\n",
    "manual: false\n",
    "points: 1\n",
    "-->"
   ]
  },
  {
   "cell_type": "code",
   "execution_count": 39,
   "metadata": {
    "run_control": {
     "marked": true
    }
   },
   "outputs": [],
   "source": [
    "my_info = ...\n",
    "..."
   ]
  },
  {
   "cell_type": "code",
   "execution_count": null,
   "metadata": {
    "deletable": false,
    "editable": false
   },
   "outputs": [],
   "source": [
    "grader.check(\"q1\")"
   ]
  },
  {
   "cell_type": "markdown",
   "metadata": {
    "deletable": false,
    "editable": false
   },
   "source": [
    "__Завдання 2__ \n",
    "1. Змінити поле __month_of_birth__ в словнику __my_info__ на назву місяця\n",
    "<!--\n",
    "BEGIN QUESTION\n",
    "name: q2\n",
    "manual: false\n",
    "points: 1\n",
    "-->"
   ]
  },
  {
   "cell_type": "code",
   "execution_count": 47,
   "metadata": {
    "collapsed": true,
    "run_control": {
     "marked": true
    }
   },
   "outputs": [],
   "source": [
    "..."
   ]
  },
  {
   "cell_type": "code",
   "execution_count": null,
   "metadata": {
    "deletable": false,
    "editable": false
   },
   "outputs": [],
   "source": [
    "grader.check(\"q2\")"
   ]
  },
  {
   "cell_type": "markdown",
   "metadata": {
    "deletable": false,
    "editable": false
   },
   "source": [
    "__Завдання 3__ \n",
    "1. Зробити копію словника 'my_info' з ім'ям 'my_info_long'\n",
    "2. Додати в словник 'my_info_long' наступні поля і значення\n",
    "    - __'name_of_university'__ (текстове)\n",
    "    - __'faculty'__ (текстове)\n",
    "    - __'course'__ (числове)\n",
    "    - __'group'__ (текстове)\n",
    "    - __'budget'__(логічне)\n",
    "<!--\n",
    "BEGIN QUESTION\n",
    "name: q3\n",
    "manual: false\n",
    "points: 1\n",
    "-->"
   ]
  },
  {
   "cell_type": "code",
   "execution_count": 50,
   "metadata": {
    "code_folding": [],
    "run_control": {
     "marked": true
    }
   },
   "outputs": [],
   "source": [
    "# --- п.1\n",
    "my_info_long = ..."
   ]
  },
  {
   "cell_type": "code",
   "execution_count": null,
   "metadata": {
    "deletable": false,
    "editable": false
   },
   "outputs": [],
   "source": [
    "grader.check(\"q3\")"
   ]
  },
  {
   "cell_type": "code",
   "execution_count": 54,
   "metadata": {
    "run_control": {
     "marked": true
    }
   },
   "outputs": [],
   "source": [
    "# --- п.2\n",
    "..."
   ]
  },
  {
   "cell_type": "code",
   "execution_count": null,
   "metadata": {
    "deletable": false,
    "editable": false
   },
   "outputs": [],
   "source": [
    "grader.check(\"q4\")"
   ]
  },
  {
   "cell_type": "markdown",
   "metadata": {
    "deletable": false,
    "editable": false
   },
   "source": [
    "__Завдання 4__ \n",
    "\n",
    "\n",
    "Написати код, який знаходить спільні значення в множині  __set_a__ та __set_b__\n",
    "\n",
    "\n",
    "<!--\n",
    "BEGIN QUESTION\n",
    "name: q5\n",
    "manual: false\n",
    "points: 1\n",
    "-->"
   ]
  },
  {
   "cell_type": "code",
   "execution_count": 59,
   "metadata": {
    "run_control": {
     "marked": true
    }
   },
   "outputs": [],
   "source": [
    "set_a = {11, 14, 5, 12, 16, 44, 8}\n",
    "set_b = {22, 14, 4, 15, 8}\n",
    "\n",
    "set_c = ..."
   ]
  },
  {
   "cell_type": "code",
   "execution_count": null,
   "metadata": {
    "deletable": false,
    "editable": false
   },
   "outputs": [],
   "source": [
    "grader.check(\"q5\")"
   ]
  },
  {
   "cell_type": "markdown",
   "metadata": {
    "deletable": false,
    "editable": false
   },
   "source": [
    "__Завдання 5__ \n",
    "\n",
    "Підрахувати кількість __унікальних__ символів в тексті\n",
    "\n",
    "<!--\n",
    "BEGIN QUESTION\n",
    "name: q6\n",
    "manual: false\n",
    "points: 1\n",
    "-->"
   ]
  },
  {
   "cell_type": "code",
   "execution_count": 39,
   "metadata": {
    "run_control": {
     "marked": true
    }
   },
   "outputs": [
    {
     "name": "stdout",
     "output_type": "stream",
     "text": [
      "{'b', 'i', 'l', 'r', 'n', 'e', 'N', 'p', 's', 'u', 'L', 'c', 'm', 'o', 'a', 'f', '.', ' ', 'g', 'd', 'M', ',', 't'}\n"
     ]
    }
   ],
   "source": [
    "some_text = \"\"\"Lorem ipsum dolor sit amet, consectetur adipiscing elit. \n",
    "Morbi auctor eros eu leo ultrices suscipit. \n",
    "Nulla facilisi. Fusce a cursus lectus. Sed erat erat, ultrices.\"\"\"\n",
    "\n",
    "...\n",
    "kol_uniq_symb = set(s)\n",
    "print(set_s)"
   ]
  },
  {
   "cell_type": "code",
   "execution_count": null,
   "metadata": {
    "deletable": false,
    "editable": false
   },
   "outputs": [],
   "source": [
    "grader.check(\"q6\")"
   ]
  },
  {
   "cell_type": "markdown",
   "metadata": {},
   "source": [
    "<h3 style=\"color:red\"> Наступні рядки виконувати не треба (це для викладача)\n",
    "</h3>\n"
   ]
  },
  {
   "cell_type": "markdown",
   "metadata": {
    "deletable": false,
    "editable": false
   },
   "source": [
    "---\n",
    "\n",
    "To double-check your work, the cell below will rerun all of the autograder tests."
   ]
  },
  {
   "cell_type": "code",
   "execution_count": null,
   "metadata": {
    "deletable": false,
    "editable": false
   },
   "outputs": [],
   "source": [
    "grader.check_all()"
   ]
  },
  {
   "cell_type": "markdown",
   "metadata": {
    "deletable": false,
    "editable": false
   },
   "source": [
    "## Submission\n",
    "\n",
    "Make sure you have run all cells in your notebook in order before running the cell below, so that all images/graphs appear in the output. The cell below will generate a zip file for you to submit. **Please save before exporting!**"
   ]
  },
  {
   "cell_type": "code",
   "execution_count": null,
   "metadata": {
    "deletable": false,
    "editable": false
   },
   "outputs": [],
   "source": [
    "# Save your notebook first, then run this cell to export your submission.\n",
    "grader.export(\"lab_3-assign_1.ipynb\")"
   ]
  },
  {
   "cell_type": "code",
   "execution_count": 11,
   "metadata": {},
   "outputs": [
    {
     "name": "stdout",
     "output_type": "stream",
     "text": [
      "16\n"
     ]
    }
   ],
   "source": [
    "x = 10\n",
    "for i in range(x-5):\n",
    "  y = i ** 2\n",
    "\n",
    "print(y)"
   ]
  },
  {
   "cell_type": "markdown",
   "metadata": {},
   "source": [
    " "
   ]
  }
 ],
 "metadata": {
  "kernelspec": {
   "display_name": "Python 3",
   "language": "python",
   "name": "python3"
  },
  "language_info": {
   "codemirror_mode": {
    "name": "ipython",
    "version": 3
   },
   "file_extension": ".py",
   "mimetype": "text/x-python",
   "name": "python",
   "nbconvert_exporter": "python",
   "pygments_lexer": "ipython3",
   "version": "3.8.3"
  }
 },
 "nbformat": 4,
 "nbformat_minor": 2
}
